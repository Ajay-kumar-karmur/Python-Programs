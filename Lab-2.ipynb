{
 "cells": [
  {
   "cell_type": "markdown",
   "metadata": {},
   "source": [
    "\n",
    "<a href='https://www.darshan.ac.in/'> <img src='https://www.darshan.ac.in/Content/media/DU_Logo.svg' width=\"250\" height=\"300\"/></a>\n",
    "<pre>\n",
    "<center><b><h1>Python Programming - 2101CS405</b></center>\n",
    "<center><b><h1>Lab - 2</b></center>    \n",
    "<pre>"
   ]
  },
  {
   "cell_type": "markdown",
   "metadata": {},
   "source": [
    "# if..else.."
   ]
  },
  {
   "cell_type": "markdown",
   "metadata": {},
   "source": [
    "### 01) WAP to check whether the given number is positive or negative."
   ]
  },
  {
   "cell_type": "code",
   "execution_count": 1,
   "metadata": {},
   "outputs": [
    {
     "name": "stdout",
     "output_type": "stream",
     "text": [
      "positive number\n"
     ]
    }
   ],
   "source": [
    "a=int(input(\"enter number\"))\n",
    "if a>0:\n",
    "    print(\"positive number\")\n",
    "else:\n",
    "    print(\"negative number\")"
   ]
  },
  {
   "cell_type": "markdown",
   "metadata": {},
   "source": [
    "### 02) WAP to check whether the given number is odd or even"
   ]
  },
  {
   "cell_type": "code",
   "execution_count": 2,
   "metadata": {},
   "outputs": [
    {
     "name": "stdout",
     "output_type": "stream",
     "text": [
      "number is even\n"
     ]
    }
   ],
   "source": [
    "a=int(input(\"enter number\"))\n",
    "if a%2==0:\n",
    "    print(\"number is even\")\n",
    "else:\n",
    "    print(\"number is even\")"
   ]
  },
  {
   "cell_type": "markdown",
   "metadata": {},
   "source": [
    "### 03) WAP to find out largest number from given two numbers using simple if and ternary operator."
   ]
  },
  {
   "cell_type": "code",
   "execution_count": 4,
   "metadata": {},
   "outputs": [
    {
     "name": "stdout",
     "output_type": "stream",
     "text": [
      "number 5 is greater\n"
     ]
    }
   ],
   "source": [
    "a = int(input('Enter first number  : '))\n",
    "b = int(input('Enter second number : '))\n",
    "if a>b:\n",
    "    print(\"number\",a,\"is greater\")\n",
    "else:\n",
    "    print(\"number\",b,\"is greater\")"
   ]
  },
  {
   "cell_type": "markdown",
   "metadata": {},
   "source": [
    "### 04) WAP to find out largest number from given three numbers."
   ]
  },
  {
   "cell_type": "code",
   "execution_count": 5,
   "metadata": {},
   "outputs": [
    {
     "name": "stdout",
     "output_type": "stream",
     "text": [
      "86 is the largest of three numbers.\n"
     ]
    }
   ],
   "source": [
    "a = int(input('Enter first number  : '))\n",
    "b = int(input('Enter second number : '))\n",
    "c = int(input('Enter third number  : '))\n",
    "\n",
    "largest = 0\n",
    "\n",
    "if a > b and a > c :\n",
    "    largest = a\n",
    "elif b > c :\n",
    "    largest = b\n",
    "else :\n",
    "    largest = c\n",
    "\n",
    "print(largest, \"is the largest of three numbers.\")"
   ]
  },
  {
   "cell_type": "markdown",
   "metadata": {},
   "source": [
    "### 05) WAP to check whether the given year is leap year or not.\n",
    "[If a year can be divisible by 4 but not divisible by 100 then it is leap year but if it is divisible by 400 then it is leap year]"
   ]
  },
  {
   "cell_type": "code",
   "execution_count": 8,
   "metadata": {},
   "outputs": [
    {
     "name": "stdout",
     "output_type": "stream",
     "text": [
      "not a leap year\n"
     ]
    }
   ],
   "source": [
    "year=int(input(\"enter year\"))\n",
    "if year%4==0:\n",
    "    if year%100!=0:\n",
    "        print(\"it is leap year\")\n",
    "    elif year%400==0:\n",
    "        print(\"It is leap year\")\n",
    "else:\n",
    "    print(\"not a leap year\")\n"
   ]
  },
  {
   "cell_type": "markdown",
   "metadata": {},
   "source": [
    "### 06) WAP in python to display the name of the day according to the number given by the user"
   ]
  },
  {
   "cell_type": "code",
   "execution_count": 10,
   "metadata": {},
   "outputs": [
    {
     "name": "stdout",
     "output_type": "stream",
     "text": [
      "saturday\n"
     ]
    }
   ],
   "source": [
    "a=int(input(\"enter day in number\"))\n",
    "if a==1:\n",
    "    print(\"sunday\")\n",
    "if a==2:\n",
    "    print(\"monday\")\n",
    "if a==3:\n",
    "    print(\"tuesday\")\n",
    "if a==4:\n",
    "    print(\"wednesday\")\n",
    "if a==5:\n",
    "    print(\"thursday\")\n",
    "if a==6:\n",
    "    print(\"friday\")\n",
    "if a==7:\n",
    "    print(\"saturday\")\n",
    "else:\n",
    "    print(\"Invalid choice\")"
   ]
  },
  {
   "cell_type": "markdown",
   "metadata": {},
   "source": [
    "### 07) WAP to implement simple calculator which performs (add,sub,mul,div) of two no. based on user input."
   ]
  },
  {
   "cell_type": "code",
   "execution_count": 11,
   "metadata": {},
   "outputs": [
    {
     "name": "stdout",
     "output_type": "stream",
     "text": [
      "1.addition\n",
      "2.subtraction\n",
      "3.multiplication\n",
      "4.division\n",
      "subtraction= 24\n"
     ]
    }
   ],
   "source": [
    "a = int(input('Enter first number  : '))\n",
    "b = int(input('Enter second number : '))\n",
    "print(\"1.addition\\n2.subtraction\\n3.multiplication\\n4.division\")\n",
    "ch=int(input(\"enter your choice\"))\n",
    "if ch==1:\n",
    "    print(\"addition=\",a+b)\n",
    "elif ch==2:\n",
    "    print(\"subtraction=\",a-b)\n",
    "elif ch==3:\n",
    "    print(\"subtraction=\",a*b)\n",
    "elif ch==4:\n",
    "    print(\"subtraction=\",a/b)\n",
    "else:\n",
    "    print(\"invalid choice\")\n",
    "\n",
    "\n",
    "\n"
   ]
  },
  {
   "cell_type": "markdown",
   "metadata": {},
   "source": [
    "### 08) WAP to calculate electricity bill based on following criteria. Which takes the unit from the user.\n",
    "a. First 1 to 50 units – Rs. 2.60/unit</br>\n",
    "b. Next 50 to 100 units – Rs. 3.25/unit</br>\n",
    "c. Next 100 to 200 units – Rs. 5.26/unit</br>\n",
    "d. above 200 units – Rs. 8.45/unit"
   ]
  },
  {
   "cell_type": "code",
   "execution_count": 13,
   "metadata": {},
   "outputs": [
    {
     "name": "stdout",
     "output_type": "stream",
     "text": [
      "Bill= 2535.0\n"
     ]
    }
   ],
   "source": [
    "unit=int(input(\"entyer yout unit\"))\n",
    "if unit<50 and unit>=1:\n",
    "    print(\"Bill=\",unit*2.60)\n",
    "elif unit>=50 and unit<100:\n",
    "    print(\"Bill=\",unit*3.25)\n",
    "elif unit>=100 and unit<200:\n",
    "    print(\"Bill=\",unit*5.26)\n",
    "elif unit>=200:\n",
    "    print(\"Bill=\",unit*8.45)\n",
    "else:\n",
    "    print(\"invalid choice\")"
   ]
  },
  {
   "cell_type": "markdown",
   "metadata": {},
   "source": [
    "### 01) WAP to read marks of five subjects. Calculate percentage and print class accordingly. \n",
    "Fail below 35 </br>\n",
    "Pass Class between 35 to 45 </br>\n",
    "Second Class</br>\n",
    "between 45 to 60</br>\n",
    "First Class between 60 to 70</br> \n",
    "Distinction if more than 70"
   ]
  },
  {
   "cell_type": "code",
   "execution_count": 15,
   "metadata": {},
   "outputs": [
    {
     "name": "stdout",
     "output_type": "stream",
     "text": [
      "distinct class\n"
     ]
    }
   ],
   "source": [
    "a = int(input('Enter first number  : '))\n",
    "b = int(input('Enter second number : '))\n",
    "c = int(input('Enter third number  : '))\n",
    "d = int(input('Enter fourth number : '))\n",
    "e = int(input('Enter fifth number : '))\n",
    "per=(a+b+c+d)/5\n",
    "if per<35:\n",
    "    print(\"Fail\")\n",
    "elif per>=35 and per<45:\n",
    "    print(\"Pass\")\n",
    "elif per>=45 and per<60:\n",
    "    print(\"Second Class\")\n",
    "elif per>=60 and per<70:\n",
    "    print(\"First Class\")\n",
    "elif per>=70:\n",
    "    print(\"distinct class\")\n"
   ]
  },
  {
   "cell_type": "markdown",
   "metadata": {},
   "source": [
    "### 02) WAP to find out the Maximum and Minimum number from given 4 numbers."
   ]
  },
  {
   "cell_type": "code",
   "execution_count": null,
   "metadata": {},
   "outputs": [],
   "source": [
    "a = int(input('Enter first number  : '))\n",
    "b = int(input('Enter second number : '))\n",
    "c = int(input('Enter third number  : '))\n",
    "d = int(input('Enter fourth number : '))\n",
    "print(\"Maximun number=\",max(a,b,c,d),\"\\nMinimum number =\",min(a,b,c,d))"
   ]
  },
  {
   "cell_type": "markdown",
   "metadata": {},
   "source": [
    "### 03) WAP to input an integer number and check the last digit of number is even or odd."
   ]
  },
  {
   "cell_type": "code",
   "execution_count": null,
   "metadata": {},
   "outputs": [],
   "source": [
    "a=int(input(\"enter number\"))\n",
    "b=a%2\n",
    "if b%2==0:\n",
    "    print(\"Last number is even\")\n",
    "elif b%2!=0:\n",
    "    print(\"last digit is odd\")\n"
   ]
  },
  {
   "cell_type": "markdown",
   "metadata": {},
   "source": [
    "### 04) WAP to determine the roots of the equation ax2+bx+c=0."
   ]
  },
  {
   "cell_type": "code",
   "execution_count": null,
   "metadata": {},
   "outputs": [],
   "source": [
    "import cmath\n",
    "a = int(input('Enter first number  : '))\n",
    "b = int(input('Enter second number : '))\n",
    "c = int(input('Enter third number  : '))\n",
    "d=(b**2)-(4*a*c)\n",
    "sol1=(-b-cmath.sqrt(d))/(2*a)\n",
    "sol2=(-b+cmath.sqrt(d))/(2*a)\n",
    "print(\"the solution are\",sol1,\"and\",sol2)\n"
   ]
  }
 ],
 "metadata": {
  "kernelspec": {
   "display_name": "Python 3",
   "language": "python",
   "name": "python3"
  },
  "language_info": {
   "codemirror_mode": {
    "name": "ipython",
    "version": 3
   },
   "file_extension": ".py",
   "mimetype": "text/x-python",
   "name": "python",
   "nbconvert_exporter": "python",
   "pygments_lexer": "ipython3",
   "version": "3.11.0"
  },
  "vscode": {
   "interpreter": {
    "hash": "7ea0cfd489e752834284afd637cf81269f891d8e227a1cc42377c2f3cf18675c"
   }
  }
 },
 "nbformat": 4,
 "nbformat_minor": 4
}

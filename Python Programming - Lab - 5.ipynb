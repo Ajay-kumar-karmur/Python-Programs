{
 "cells": [
  {
   "attachments": {},
   "cell_type": "markdown",
   "metadata": {},
   "source": [
    "`\n",
    "<a href='https://www.darshan.ac.in/'> <img src='https://www.darshan.ac.in/Content/media/DU_Logo.svg' width=\"250\" height=\"300\"/></a>\n",
    "<pre>\n",
    "<center><b><h1>Python Programming - 2101CS405</b></center>\n",
    "<center><b><h1>Lab - 5</b></center>    \n",
    "<pre>"
   ]
  },
  {
   "cell_type": "markdown",
   "metadata": {},
   "source": [
    "# list"
   ]
  },
  {
   "cell_type": "markdown",
   "metadata": {},
   "source": [
    "### 01) WAP to find sum of all the elements in List."
   ]
  },
  {
   "cell_type": "code",
   "execution_count": 2,
   "metadata": {},
   "outputs": [
    {
     "data": {
      "text/plain": [
       "30"
      ]
     },
     "execution_count": 2,
     "metadata": {},
     "output_type": "execute_result"
    }
   ],
   "source": [
    "l1=input(\"Enter list (Space between two number)\").split()\n",
    "sum=0\n",
    "for i in l1:\n",
    "    sum=sum+int(i)\n",
    "sum"
   ]
  },
  {
   "attachments": {},
   "cell_type": "markdown",
   "metadata": {},
   "source": [
    "\n",
    "02) WAP to find largest element in a List."
   ]
  },
  {
   "cell_type": "code",
   "execution_count": 2,
   "metadata": {},
   "outputs": [
    {
     "name": "stdout",
     "output_type": "stream",
     "text": [
      "50\n"
     ]
    }
   ],
   "source": [
    "l1=[1,2,3,50]\n",
    "maxValue = max(l1)\n",
    "print(maxValue)"
   ]
  },
  {
   "cell_type": "code",
   "execution_count": null,
   "metadata": {},
   "outputs": [],
   "source": []
  },
  {
   "cell_type": "markdown",
   "metadata": {},
   "source": [
    "### 03) WAP to split the List into two and append the first part to the end."
   ]
  },
  {
   "cell_type": "code",
   "execution_count": 1,
   "metadata": {},
   "outputs": [
    {
     "name": "stdout",
     "output_type": "stream",
     "text": [
      "[1, 2, 3, 2, 5, 1, 2]\n"
     ]
    }
   ],
   "source": [
    "list1 = []\n",
    "list2 = []\n",
    "input1 = 0\n",
    "n = int(input(\"Enter Number Of Element : \"))\n",
    "for i in range(n):\n",
    "    input1 = int(input())\n",
    "    list1.append(input1)\n",
    "half_index = len(list1)//2\n",
    "list2 = list1[0:half_index]\n",
    "# print(list2)\n",
    "list1.extend(list2)\n",
    "print(list1)"
   ]
  },
  {
   "cell_type": "code",
   "execution_count": null,
   "metadata": {},
   "outputs": [],
   "source": []
  },
  {
   "cell_type": "markdown",
   "metadata": {},
   "source": [
    "### 04) WAP to interchange first and last elements in list entered by a user."
   ]
  },
  {
   "cell_type": "code",
   "execution_count": 2,
   "metadata": {},
   "outputs": [
    {
     "name": "stdout",
     "output_type": "stream",
     "text": [
      "[9, 2, 23, 6, 1]\n"
     ]
    }
   ],
   "source": [
    "list1 = []\n",
    "input1 = 0\n",
    "n = int(input(\"Enter Number Of Element : \"))\n",
    "for i in range(n):\n",
    "    input1 = int(input())\n",
    "    list1.append(input1)\n",
    "last_element = len(list1)-1\n",
    "list1[0] , list1[-1]=list1[-1] , list1[0]\n",
    "# print(last_element)\n",
    "print(list1)"
   ]
  },
  {
   "cell_type": "markdown",
   "metadata": {},
   "source": [
    "### 05) WAP to interchange the elements on two positions entered by a user."
   ]
  },
  {
   "cell_type": "code",
   "execution_count": 3,
   "metadata": {},
   "outputs": [
    {
     "name": "stdout",
     "output_type": "stream",
     "text": [
      "[9, 2, 23, 6, 2, 3, 1, 9, 6, 8]\n"
     ]
    }
   ],
   "source": [
    "input1 = 0\n",
    "n = int(input(\"Enter Number Of Element : \"))\n",
    "for i in range(n):\n",
    "    input1 = int(input())\n",
    "    list1.append(input1)\n",
    "last_element = len(list1)-1\n",
    "n1 = int(input(\"Enter First Position : \"))\n",
    "n2 = int(input(\"Enter Second Position : \"))\n",
    "list1[n1],list1[n2]=list1[n2],list1[n1]\n",
    "print(list1)"
   ]
  },
  {
   "cell_type": "markdown",
   "metadata": {},
   "source": [
    "### 06) WAP to reverses the list entered by user."
   ]
  },
  {
   "cell_type": "code",
   "execution_count": 4,
   "metadata": {},
   "outputs": [
    {
     "name": "stdout",
     "output_type": "stream",
     "text": [
      "[95, 26, 1]\n"
     ]
    }
   ],
   "source": [
    "list1 = []\n",
    "input1 = 0\n",
    "n = int(input(\"Enter Number Of Element : \"))\n",
    "for i in range(n):\n",
    "    input1 = int(input())\n",
    "    list1.append(input1)\n",
    "list1.reverse()\n",
    "print(list1)"
   ]
  },
  {
   "cell_type": "markdown",
   "metadata": {},
   "source": [
    "### 07) Python program to remove multiple elements from a list using list comprehension"
   ]
  },
  {
   "cell_type": "code",
   "execution_count": 6,
   "metadata": {},
   "outputs": [
    {
     "name": "stdout",
     "output_type": "stream",
     "text": [
      "[3, 4, 5, 6]\n"
     ]
    }
   ],
   "source": [
    "list1 = []\n",
    "input1 = 0\n",
    "n = int(input(\"Enter Number Of Element : \"))\n",
    "for i in range(n):\n",
    "    input1 = int(input())\n",
    "    list1.append(input1)\n",
    "n1 = int(input(\"Enter Number Of Element You Want To Delete: \"))\n",
    "for x in range(n1):\n",
    "    x = int(input(\"Enter Element You Want To Delete : \"))\n",
    "    list1.remove(x)\n",
    "print(list1)"
   ]
  },
  {
   "cell_type": "markdown",
   "metadata": {},
   "source": [
    "### 08) Create a list from the specified start to end index of another list."
   ]
  },
  {
   "cell_type": "code",
   "execution_count": 9,
   "metadata": {},
   "outputs": [
    {
     "name": "stdout",
     "output_type": "stream",
     "text": [
      "[2, 3]\n"
     ]
    }
   ],
   "source": [
    "list1 = []\n",
    "input1 = 0\n",
    "n = int(input(\"Enter Number Of Element : \"))\n",
    "for i in range(n):\n",
    "    input1 = int(input())\n",
    "    list1.append(input1)\n",
    "n1 = int(input(\"Enter Start Index : \"))\n",
    "n2 = int(input(\"Enter End Index : \"))\n",
    "list2=list1[n1:n2]\n",
    "print(list2)"
   ]
  },
  {
   "cell_type": "markdown",
   "metadata": {},
   "source": [
    "### 09) Input comma separated elements, convert into list and print."
   ]
  },
  {
   "cell_type": "code",
   "execution_count": 12,
   "metadata": {},
   "outputs": [
    {
     "name": "stdout",
     "output_type": "stream",
     "text": [
      "['1,23,3,4,5,6']\n"
     ]
    }
   ],
   "source": [
    "list1 = []\n",
    "n1 = input(\"Enter Element : \")\n",
    "n1.split(\",\")\n",
    "list1.append(n1)\n",
    "print(list1)"
   ]
  },
  {
   "cell_type": "markdown",
   "metadata": {},
   "source": [
    "### 01) WAP to count Even and Odd numbers in a List."
   ]
  },
  {
   "cell_type": "code",
   "execution_count": 13,
   "metadata": {},
   "outputs": [
    {
     "name": "stdout",
     "output_type": "stream",
     "text": [
      "[1, 2, 3, 4, 5]\n",
      "Odd Numbers : 3\n",
      "Even Numbers : 2\n"
     ]
    }
   ],
   "source": [
    "list1 = []\n",
    "input1 = 0\n",
    "even_count = 0\n",
    "odd_count = 0\n",
    "n = int(input(\"Enter Number Of Element : \"))\n",
    "for i in range(n):\n",
    "    input1 = int(input())\n",
    "    list1.append(input1)\n",
    "    if list1[i]%2==0:\n",
    "        even_count +=1\n",
    "    elif list1[i]%2!=0:\n",
    "        odd_count +=1\n",
    "print(list1)\n",
    "print(f\"Odd Numbers : {odd_count}\")\n",
    "print(f\"Even Numbers : {even_count}\")"
   ]
  },
  {
   "cell_type": "markdown",
   "metadata": {},
   "source": [
    "### 02) Python program to find N largest and smallest elements from the list"
   ]
  },
  {
   "cell_type": "code",
   "execution_count": 14,
   "metadata": {},
   "outputs": [
    {
     "name": "stdout",
     "output_type": "stream",
     "text": [
      "Smallest :  [12, 23, 56, 98]\n",
      "Largest :  [12, 23, 56, 98]\n"
     ]
    }
   ],
   "source": [
    "list1 = []\n",
    "input1 = 0\n",
    "n = int(input(\"Enter Number Of Element : \"))\n",
    "for i in range(n):\n",
    "    input1 = int(input())\n",
    "    list1.append(input1)\n",
    "list1.sort()\n",
    "n = int(input(\"Enter Number : \"))\n",
    "print(\"Smallest : \",list1[0:n])\n",
    "length = len(list1)-n\n",
    "print(\"Largest : \",list1[length:])"
   ]
  },
  {
   "cell_type": "markdown",
   "metadata": {},
   "source": [
    "### 03) WAP to print duplicates from a list of integers"
   ]
  },
  {
   "cell_type": "code",
   "execution_count": 15,
   "metadata": {},
   "outputs": [
    {
     "name": "stdout",
     "output_type": "stream",
     "text": [
      "[4]\n"
     ]
    }
   ],
   "source": [
    "list1 = []\n",
    "uniqueList = []\n",
    "duplicateList = []\n",
    "input1 = 0\n",
    "n = int(input(\"Enter Number Of Element : \"))\n",
    "for i in range(n):\n",
    "    input1 = int(input())\n",
    "    list1.append(input1)\n",
    "list1.sort()\n",
    "for i in list1:\n",
    "    if i not in uniqueList:\n",
    "        uniqueList.append(i)\n",
    "    elif i not in duplicateList:\n",
    "        duplicateList.append(i)\n",
    "print(duplicateList)"
   ]
  }
 ],
 "metadata": {
  "kernelspec": {
   "display_name": "Python 3",
   "language": "python",
   "name": "python3"
  },
  "language_info": {
   "codemirror_mode": {
    "name": "ipython",
    "version": 3
   },
   "file_extension": ".py",
   "mimetype": "text/x-python",
   "name": "python",
   "nbconvert_exporter": "python",
   "pygments_lexer": "ipython3",
   "version": "3.10.4 (tags/v3.10.4:9d38120, Mar 23 2022, 23:13:41) [MSC v.1929 64 bit (AMD64)]"
  },
  "vscode": {
   "interpreter": {
    "hash": "286ddddec6579894237a5e42abb648d1a6e47a0ddf4b055ec532668b67071e82"
   }
  }
 },
 "nbformat": 4,
 "nbformat_minor": 4
}

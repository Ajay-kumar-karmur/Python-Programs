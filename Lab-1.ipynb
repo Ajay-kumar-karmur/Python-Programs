{
 "cells": [
  {
   "cell_type": "markdown",
   "metadata": {},
   "source": [
    "<a href='https://www.darshan.ac.in/'> <img src='https://www.darshan.ac.in/Content/media/DU_Logo.svg' width=\"250\" height=\"300\"/></a>\n",
    "<pre>\n",
    "<center><b><h1>Python Programming - 2101CS405</b></center>\n",
    "<center><b><h1>Lab - 1</b></center>    \n",
    "<pre>"
   ]
  },
  {
   "cell_type": "markdown",
   "metadata": {},
   "source": [
    "### 01) WAP to print “Hello World”"
   ]
  },
  {
   "cell_type": "code",
   "execution_count": 1,
   "metadata": {},
   "outputs": [
    {
     "name": "stdout",
     "output_type": "stream",
     "text": [
      "Hello World\n"
     ]
    }
   ],
   "source": [
    "print(\"Hello World\")\n"
   ]
  },
  {
   "cell_type": "markdown",
   "metadata": {},
   "source": [
    "### 02) WAP to print your address i) using single print ii) using multiple print"
   ]
  },
  {
   "cell_type": "code",
   "execution_count": 4,
   "metadata": {},
   "outputs": [
    {
     "name": "stdout",
     "output_type": "stream",
     "text": [
      "Utakash boyz hostel\n",
      "Morbi road\n",
      "Rajkot\n",
      "Near Darshan university,hadala\n"
     ]
    }
   ],
   "source": [
    "print(\"Utakash boyz hostel\\nMorbi road\\nRajkot\\nNear Darshan university,hadala\")\n"
   ]
  },
  {
   "cell_type": "markdown",
   "metadata": {},
   "source": [
    "### 03) WAP to print addition of 2 numbers (without input function)"
   ]
  },
  {
   "cell_type": "code",
   "execution_count": 5,
   "metadata": {},
   "outputs": [
    {
     "name": "stdout",
     "output_type": "stream",
     "text": [
      "Addition of 2 number is 95\n"
     ]
    }
   ],
   "source": [
    "a=25\n",
    "b = 70\n",
    "print(\"Addition of 2 number is\", a+b)\n"
   ]
  },
  {
   "cell_type": "markdown",
   "metadata": {},
   "source": [
    "### 04) WAP to calculate and print average of 2 numbers (without input function)"
   ]
  },
  {
   "cell_type": "code",
   "execution_count": 6,
   "metadata": {},
   "outputs": [
    {
     "name": "stdout",
     "output_type": "stream",
     "text": [
      "Average of 2 number is 40.0\n"
     ]
    }
   ],
   "source": [
    "a = 10\n",
    "b = 70\n",
    "print(\"Average of 2 number is\", (a+b)/2)"
   ]
  },
  {
   "cell_type": "markdown",
   "metadata": {},
   "source": [
    "### 05) WAP to add two number entered by user."
   ]
  },
  {
   "cell_type": "code",
   "execution_count": 7,
   "metadata": {},
   "outputs": [
    {
     "name": "stdout",
     "output_type": "stream",
     "text": [
      "Addition: 55\n"
     ]
    }
   ],
   "source": [
    "a = int(input(\"Enter first number:\"))\n",
    "b = int(input(\"Enter second number:\"))\n",
    "print(\"Addition:\",a+b)"
   ]
  },
  {
   "cell_type": "markdown",
   "metadata": {},
   "source": [
    "### 06) WAP to calculate simple interest."
   ]
  },
  {
   "cell_type": "code",
   "execution_count": 8,
   "metadata": {},
   "outputs": [
    {
     "name": "stdout",
     "output_type": "stream",
     "text": [
      "Simple interest is  300.0\n"
     ]
    }
   ],
   "source": [
    "p = int(input(\"Enter Principal:\"))\n",
    "n = int(input(\"Enter Time:\"))\n",
    "r = int(input(\"Enter Rate:\"))\n",
    "print(\"Simple interest is \",(p*n*r)/100)"
   ]
  },
  {
   "cell_type": "markdown",
   "metadata": {},
   "source": [
    "### 07) WAP Calculate Area and Circumfrence of Circle"
   ]
  },
  {
   "cell_type": "code",
   "execution_count": 9,
   "metadata": {},
   "outputs": [
    {
     "name": "stdout",
     "output_type": "stream",
     "text": [
      "The area of circle is 1962.5\n",
      "The Circumfrence of circle is 157.0\n"
     ]
    }
   ],
   "source": [
    "r = int(input(\"Enter Radius:\"))\n",
    "print(\"The area of circle is\",3.14*r*r)\n",
    "print(\"The Circumfrence of circle is\",2*3.14*r)\n"
   ]
  },
  {
   "cell_type": "markdown",
   "metadata": {},
   "source": [
    "### 08) WAP to print Multiplication table of given number without using loops."
   ]
  },
  {
   "cell_type": "code",
   "execution_count": 10,
   "metadata": {},
   "outputs": [
    {
     "name": "stdout",
     "output_type": "stream",
     "text": [
      "20 40 60 80 100 120 140 160 180 200\n"
     ]
    }
   ],
   "source": [
    "n = int(input(\"Enter number of multiplication table:\"))\n",
    "print(n*1,n*2,n*3,n*4,n*5,n*6,n*7,n*8,n*9,n*10)\n"
   ]
  },
  {
   "cell_type": "markdown",
   "metadata": {},
   "source": [
    "### 09) WAP to calculate Area of Triangle (hint: a = h * b * 0.5)"
   ]
  },
  {
   "cell_type": "code",
   "execution_count": 11,
   "metadata": {},
   "outputs": [
    {
     "name": "stdout",
     "output_type": "stream",
     "text": [
      "The area of tringle is 250.0\n"
     ]
    }
   ],
   "source": [
    "h = int(input(\"Enter Height:\"))\n",
    "b = int(input(\"Enter Base:\"))\n",
    "print(\"The area of tringle is\",h*b*0.5)\n"
   ]
  },
  {
   "cell_type": "markdown",
   "metadata": {},
   "source": [
    "### 10) WAP to convert degree to Fahrenheit and vice versa."
   ]
  },
  {
   "cell_type": "code",
   "execution_count": 12,
   "metadata": {},
   "outputs": [
    {
     "name": "stdout",
     "output_type": "stream",
     "text": [
      "Dgree to Fahrenhit conversion is  77.0\n",
      "Fahrenhit to Dgree conversion is  -9.444444444444445\n"
     ]
    }
   ],
   "source": [
    "c = int(input(\"Enter Degree in Celsius:\"))\n",
    "f = int(input(\"Enter Fahrenhit:\"))\n",
    "Fahrenhit = (c * (9/5))+32\n",
    "Dgree = (f-32)*(5/9)\n",
    "print(\"Dgree to Fahrenhit conversion is \",Fahrenhit)\n",
    "print(\"Fahrenhit to Dgree conversion is \",Dgree)\n"
   ]
  },
  {
   "cell_type": "markdown",
   "metadata": {},
   "source": [
    "### 11) WAP to calculate total marks and Percentage."
   ]
  },
  {
   "cell_type": "code",
   "execution_count": 13,
   "metadata": {},
   "outputs": [
    {
     "name": "stdout",
     "output_type": "stream",
     "text": [
      "Total is 81\n",
      "Percentage is 27.0\n"
     ]
    }
   ],
   "source": [
    "sub1 = int(input(\"Enter marks of sub1:\"))\n",
    "sub2 = int(input(\"Enter marks of sub2:\"))\n",
    "sub3 = int(input(\"Enter marks of sub3:\"))\n",
    "print(\"Total is\",sub1+sub2+sub3)\n",
    "print(\"Percentage is\",(sub1+sub2+sub3)/3)\n"
   ]
  },
  {
   "cell_type": "markdown",
   "metadata": {},
   "source": [
    "### 12) Compute distance between two points taking input from the user (Pythagorean Theorem)."
   ]
  },
  {
   "cell_type": "code",
   "execution_count": 14,
   "metadata": {},
   "outputs": [
    {
     "name": "stdout",
     "output_type": "stream",
     "text": [
      "Third side is 39.05124837953327\n"
     ]
    }
   ],
   "source": [
    "import math\n",
    "a = int(input(\"Enter side a:\"))\n",
    "b = int(input(\"Enter side b:\"))\n",
    "c = math.sqrt(a*a + b*b)\n",
    "print(\"Third side is\",c)"
   ]
  },
  {
   "cell_type": "markdown",
   "metadata": {},
   "source": [
    "### 13) WAP to convert seconds into hours, minutes & seconds and print in HH:MM:SS\n",
    "[e.g. 10000 seconds mean 2:46:40 (2 Hours, 46 Minutes, 40Seconds)]"
   ]
  },
  {
   "cell_type": "code",
   "execution_count": 16,
   "metadata": {},
   "outputs": [
    {
     "name": "stdout",
     "output_type": "stream",
     "text": [
      "HH:MM:SS 2:46:40\n"
     ]
    }
   ],
   "source": [
    "from datetime import timedelta\n",
    "sec = int(input(\"Enter Seconds:\"))\n",
    "td = timedelta(seconds=sec)\n",
    "print(\"HH:MM:SS\",td)\n"
   ]
  },
  {
   "cell_type": "markdown",
   "metadata": {},
   "source": [
    "### 14) WAP to enter distance into kilometer and convert it into meter, feet,inches, and centimeter"
   ]
  },
  {
   "cell_type": "code",
   "execution_count": 17,
   "metadata": {},
   "outputs": [
    {
     "name": "stdout",
     "output_type": "stream",
     "text": [
      "Meter: 20000\n",
      "Feet: 65616.83333334001\n",
      "Inches: 787402.0\n",
      "Centimeter: 2000000\n"
     ]
    }
   ],
   "source": [
    "km = int(input(\"Enter The distance into Km:\"))\n",
    "print(\"Meter:\",km*1000)\n",
    "print(\"Feet:\",km*3280.841666667)\n",
    "print(\"Inches:\",km * 39370.1)\n",
    "print(\"Centimeter:\",km*100000)"
   ]
  }
 ],
 "metadata": {
  "kernelspec": {
   "display_name": "Python 3.11.0 64-bit",
   "language": "python",
   "name": "python3"
  },
  "language_info": {
   "codemirror_mode": {
    "name": "ipython",
    "version": 3
   },
   "file_extension": ".py",
   "mimetype": "text/x-python",
   "name": "python",
   "nbconvert_exporter": "python",
   "pygments_lexer": "ipython3",
   "version": "3.11.0"
  },
  "vscode": {
   "interpreter": {
    "hash": "a6a2e081822f8677922e05a0430c407cdc60dbcfe9f9040f45ade223b6af176d"
   }
  }
 },
 "nbformat": 4,
 "nbformat_minor": 4
}

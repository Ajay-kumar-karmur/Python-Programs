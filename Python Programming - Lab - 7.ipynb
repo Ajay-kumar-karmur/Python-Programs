{
 "cells": [
  {
   "cell_type": "markdown",
   "metadata": {},
   "source": [
    "<a href='https://www.darshan.ac.in/'> <img src='https://www.darshan.ac.in/Content/media/DU_Logo.svg' width=\"250\" height=\"300\"/></a>\n",
    "<pre>\n",
    "<center><b><h1>Python Programming - 2101CS405</b></center>\n",
    "<center><b><h1>Lab - 7</b></center>    \n",
    "<pre>"
   ]
  },
  {
   "cell_type": "markdown",
   "metadata": {},
   "source": [
    "# Functions"
   ]
  },
  {
   "cell_type": "markdown",
   "metadata": {},
   "source": [
    "### 01) WAP to count simple interest using function."
   ]
  },
  {
   "cell_type": "code",
   "execution_count": 1,
   "metadata": {},
   "outputs": [
    {
     "name": "stdout",
     "output_type": "stream",
     "text": [
      "Enter number p=10\n",
      "Enter number r=10\n",
      "Enter number n=10\n",
      " 10.0\n"
     ]
    }
   ],
   "source": [
    "def simpaleInt(p,r,n):\n",
    "    return (p*r*n)/100\n",
    "p=int(input(\"Enter number p=\"))\n",
    "r=int(input(\"Enter number r=\"))\n",
    "n=int(input(\"Enter number n=\"))\n",
    "\n",
    "Ans=simpaleInt(p,r,n)\n",
    "print(\"Simplae Intrest\",Ans)"
   ]
  },
  {
   "cell_type": "markdown",
   "metadata": {},
   "source": [
    "### 02) WAP that defines a function to add first n numbers."
   ]
  },
  {
   "cell_type": "code",
   "execution_count": 15,
   "metadata": {},
   "outputs": [
    {
     "name": "stdout",
     "output_type": "stream",
     "text": [
      "Enter sum number10\n",
      "Addtion Of number =  55\n"
     ]
    }
   ],
   "source": [
    "def add(n):\n",
    "    sum=0\n",
    "    for i in range(0,n+1):\n",
    "        sum=sum+i\n",
    "    return sum\n",
    "n=int(input(\"Enter sum number:=\"))\n",
    "ans=add(n)\n",
    "print(\"Addtion Of number = \",ans)"
   ]
  },
  {
   "cell_type": "markdown",
   "metadata": {},
   "source": [
    "### 03) WAP to find maximum number from given two numbers using function."
   ]
  },
  {
   "cell_type": "code",
   "execution_count": 19,
   "metadata": {},
   "outputs": [
    {
     "name": "stdout",
     "output_type": "stream",
     "text": [
      "Enter number 1:-35\n",
      "Enter number 2:- 98\n"
     ]
    },
    {
     "data": {
      "text/plain": [
       "98"
      ]
     },
     "execution_count": 19,
     "metadata": {},
     "output_type": "execute_result"
    }
   ],
   "source": [
    "def maximum(a,b):\n",
    "    m=max(a,b)\n",
    "    return m\n",
    "a=int(input(\"Enter number 1:-\"))\n",
    "b=int(input(\"Enter number 2:- \"))\n",
    "maxnum=maximum(a,b)\n",
    "maxnum"
   ]
  },
  {
   "cell_type": "markdown",
   "metadata": {},
   "source": [
    "### 04) WAP that defines a function which returns 1 if the number is prime otherwise return 0."
   ]
  },
  {
   "cell_type": "code",
   "execution_count": 31,
   "metadata": {},
   "outputs": [
    {
     "name": "stdout",
     "output_type": "stream",
     "text": [
      "Enter number:-13\n"
     ]
    },
    {
     "data": {
      "text/plain": [
       "1"
      ]
     },
     "execution_count": 31,
     "metadata": {},
     "output_type": "execute_result"
    }
   ],
   "source": [
    "def prime(n):\n",
    "    for i in range(2,n):\n",
    "        if n%i==0:\n",
    "            return 0\n",
    "        else:\n",
    "            return 1\n",
    "        \n",
    "n=int(input(\"Enter number:-\"))\n",
    "prm=prime(n)\n",
    "prm"
   ]
  },
  {
   "cell_type": "markdown",
   "metadata": {},
   "source": [
    "### 05) Write a function called primes that takes an integer value as an argument and returns a list of all prime numbers up to that number."
   ]
  },
  {
   "cell_type": "code",
   "execution_count": 31,
   "metadata": {},
   "outputs": [
    {
     "name": "stdout",
     "output_type": "stream",
     "text": [
      "Enter number N := 9\n"
     ]
    },
    {
     "data": {
      "text/plain": [
       "[3, 5, 7]"
      ]
     },
     "execution_count": 31,
     "metadata": {},
     "output_type": "execute_result"
    }
   ],
   "source": [
    "def count_primes(num):\n",
    "    li=[]\n",
    "    for j in range(3,num+1):\n",
    "        prime=True\n",
    "        for i in range(2,j):\n",
    "            if(j%i == 0):\n",
    "                prime=False\n",
    "        if prime:\n",
    "            li.append(j)\n",
    "    return li\n",
    "num=int(input(\"Enter number N := \"))\n",
    "ans=count_primes(num)\n",
    "ans"
   ]
  },
  {
   "cell_type": "markdown",
   "metadata": {},
   "source": [
    "### 06) WAP to generate Fibonacci series of N given number using function name fibbo. (e.g. 0 1 1 2 3 5 8...)"
   ]
  },
  {
   "cell_type": "code",
   "execution_count": 28,
   "metadata": {},
   "outputs": [
    {
     "name": "stdout",
     "output_type": "stream",
     "text": [
      "Enter Number For Fibbonaci8\n",
      "0\n",
      "1\n",
      "1\n",
      "2\n",
      "3\n",
      "5\n",
      "8\n",
      "13\n",
      "21\n"
     ]
    }
   ],
   "source": [
    "def fibbo(n):\n",
    "    num1 = 0\n",
    "    num2 = 1\n",
    "    if n == 1:\n",
    "        print(num1)\n",
    "    else:\n",
    "        print(num1)\n",
    "        print(num2)\n",
    "        for i in range(1,n):\n",
    "            c = num1 + num2\n",
    "            num1 = num2\n",
    "            num2 = c\n",
    "            print(c)\n",
    "n=int(input(\"Enter Number For Fibbonaci\"))\n",
    "fibbo(n)"
   ]
  },
  {
   "cell_type": "markdown",
   "metadata": {},
   "source": [
    "### 07) WAP to find the factorial of a given number using recursion."
   ]
  },
  {
   "cell_type": "code",
   "execution_count": 33,
   "metadata": {},
   "outputs": [
    {
     "name": "stdout",
     "output_type": "stream",
     "text": [
      "Enter Number5\n"
     ]
    },
    {
     "data": {
      "text/plain": [
       "120"
      ]
     },
     "execution_count": 33,
     "metadata": {},
     "output_type": "execute_result"
    }
   ],
   "source": [
    "def fac(n):\n",
    "    if n==1 or n== 0:\n",
    "        return 1\n",
    "    else:\n",
    "        return n*fac(n-1)\n",
    "n=int(input(\"Enter Number\"))\n",
    "ans = fac(n)\n",
    "ans"
   ]
  },
  {
   "cell_type": "markdown",
   "metadata": {},
   "source": [
    "### 08) WAP to implement simple calculator using lamda function."
   ]
  },
  {
   "cell_type": "code",
   "execution_count": 2,
   "metadata": {},
   "outputs": [
    {
     "name": "stdout",
     "output_type": "stream",
     "text": [
      "88\n"
     ]
    }
   ],
   "source": [
    "n1 = int(input(\"Enter Number : \"))\n",
    "n2 = int(input(\"Enter Number : \"))\n",
    "n3 = input(\"Enter Choice : \")\n",
    "ans = lambda n1,n2,n3 : n1+n2 if n3==\"+\" else n1-n2 if n3==\"-\" else n1*n2 if n3==\"*\" else n1//n2 if n3==\"/\" else \"Wrong Operation\"\n",
    "print(ans(n1,n2,n3))"
   ]
  },
  {
   "cell_type": "markdown",
   "metadata": {},
   "source": [
    "### 09)Write a Python program that accepts a hyphen-separated sequence of words as input and prints the words in a hyphen-separated sequence after sorting them alphabetically\n",
    "Sample Items : green-red-yellow-black-white <br>\n",
    "Expected Result : black-green-red-white-yellow"
   ]
  },
  {
   "cell_type": "code",
   "execution_count": 3,
   "metadata": {},
   "outputs": [
    {
     "name": "stdout",
     "output_type": "stream",
     "text": [
      "black-green-red\n"
     ]
    }
   ],
   "source": [
    "str1 = input(\"Enter Hyphen Seperated String : \")\n",
    "list1 = str1.split(\"-\")\n",
    "list1.sort()\n",
    "print(\"-\".join(list1))"
   ]
  },
  {
   "cell_type": "markdown",
   "metadata": {},
   "source": [
    "### 10) Write a python program to implement all function arguments type\n",
    "Positional arguments <Br>\n",
    "Default argument <Br>\n",
    "Keyword arguments (named arguments) <Br>\n",
    "Arbitrary arguments (variable-length arguments args and kwargs)"
   ]
  },
  {
   "cell_type": "code",
   "execution_count": 4,
   "metadata": {},
   "outputs": [
    {
     "name": "stdout",
     "output_type": "stream",
     "text": [
      "Positional arguments  30\n",
      "Default argument  30\n"
     ]
    }
   ],
   "source": [
    "a = int(input(\"Enter Number : \"))\n",
    "b = int(input(\"Enter Number : \"))\n",
    "positionalArguments = lambda a,b : a+b\n",
    "print(\"Positional arguments \",positionalArguments(a,b))\n",
    "\n",
    "a = int(input(\"Enter Number : \"))\n",
    "defaultArgument = lambda a,b=10 : a+b\n",
    "print(\"Default argument \",defaultArgument(a))"
   ]
  },
  {
   "cell_type": "code",
   "execution_count": 18,
   "metadata": {},
   "outputs": [
    {
     "name": "stdout",
     "output_type": "stream",
     "text": [
      "Keyword arguments (named arguments)  210\n",
      "Keyword arguments (named arguments)  45\n"
     ]
    }
   ],
   "source": [
    "a = int(input(\"Enter Number : \"))\n",
    "b = int(input(\"Enter Number : \"))\n",
    "def keywordArguments(a,b):\n",
    "    return a+b\n",
    "print(\"Keyword arguments (named arguments) \",keywordArguments(b=a,a=b))\n",
    "\n",
    "a = int(input(\"Enter Number : \"))\n",
    "def arbitraryArguments(a,*b):\n",
    "    sums = a\n",
    "    for i in b:\n",
    "        sums+=i\n",
    "    return sums\n",
    "print(\"Keyword arguments (named arguments) \",arbitraryArguments(a,5,10))"
   ]
  },
  {
   "cell_type": "markdown",
   "metadata": {},
   "source": [
    "### 01) WAP to calculate power of a number using recursion."
   ]
  },
  {
   "cell_type": "code",
   "execution_count": 17,
   "metadata": {},
   "outputs": [
    {
     "data": {
      "text/plain": [
       "8"
      ]
     },
     "execution_count": 17,
     "metadata": {},
     "output_type": "execute_result"
    }
   ],
   "source": [
    "def powers(base,power):\n",
    "    if power==1:\n",
    "        return base\n",
    "    elif power==0:\n",
    "        return 1\n",
    "    else:\n",
    "        return base*powers(base,power-1)\n",
    "base = int(input(\"Enter Number : \"))\n",
    "power = int(input(\"Enter Number : \"))\n",
    "powers(base,power)"
   ]
  },
  {
   "cell_type": "markdown",
   "metadata": {},
   "source": [
    "### 02) WAP to count digits of a number using recursion."
   ]
  },
  {
   "cell_type": "code",
   "execution_count": 16,
   "metadata": {},
   "outputs": [
    {
     "name": "stdout",
     "output_type": "stream",
     "text": [
      "3\n"
     ]
    }
   ],
   "source": [
    "def countDigits(n):\n",
    "    if n<10:\n",
    "        return 1\n",
    "    else:\n",
    "        return 1+countDigits(n//10)\n",
    "\n",
    "\n",
    "n = int(input(\"Enter Number : \"))\n",
    "ans = countDigits(n)\n",
    "print(ans)"
   ]
  },
  {
   "cell_type": "markdown",
   "metadata": {},
   "source": [
    "### 03) WAP to reverse an integer number using recursion."
   ]
  },
  {
   "cell_type": "code",
   "execution_count": 15,
   "metadata": {},
   "outputs": [
    {
     "name": "stdout",
     "output_type": "stream",
     "text": [
      "Reverse :  21\n"
     ]
    }
   ],
   "source": [
    "reverse_number = 0\n",
    "def reverseNumber(n):\n",
    "    global reverse_number\n",
    "    if(n>0):\n",
    "        reminder = n%10\n",
    "        reverse_number = reverse_number*10 + reminder\n",
    "        reverseNumber(n//10)\n",
    "    return reverse_number\n",
    "\n",
    "\n",
    "n = int(input(\"Enter Number : \"))\n",
    "reverse_number = reverseNumber(n)\n",
    "print(\"Reverse : \",reverse_number)"
   ]
  },
  {
   "cell_type": "markdown",
   "metadata": {},
   "source": [
    "### 04) WAP to convert decimal number into binary using recursion."
   ]
  },
  {
   "cell_type": "code",
   "execution_count": 13,
   "metadata": {},
   "outputs": [
    {
     "name": "stdout",
     "output_type": "stream",
     "text": [
      "Binary :  10\n"
     ]
    }
   ],
   "source": [
    "def decimalToBinary(n):\n",
    "    if n==0:\n",
    "        return 0\n",
    "    else:\n",
    "        return n%2+10*(decimalToBinary(n//2))\n",
    "\n",
    "n = int(input(\"Enter Number : \"))\n",
    "ans = decimalToBinary(n)\n",
    "print(\"Binary : \",ans)"
   ]
  }
 ],
 "metadata": {
  "kernelspec": {
   "display_name": "Python 3",
   "language": "python",
   "name": "python3"
  },
  "language_info": {
   "codemirror_mode": {
    "name": "ipython",
    "version": 3
   },
   "file_extension": ".py",
   "mimetype": "text/x-python",
   "name": "python",
   "nbconvert_exporter": "python",
   "pygments_lexer": "ipython3",
   "version": "3.11.1"
  },
  "vscode": {
   "interpreter": {
    "hash": "5238573367df39f7286bb46f9ff5f08f63a01a80960060ce41e3c79b190280fa"
   }
  }
 },
 "nbformat": 4,
 "nbformat_minor": 4
}
